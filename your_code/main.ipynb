{
 "cells": [
  {
   "cell_type": "markdown",
   "metadata": {},
   "source": [
    "# Advanced Querying Mongo"
   ]
  },
  {
   "cell_type": "markdown",
   "metadata": {},
   "source": [
    "Importing libraries and setting up connection"
   ]
  },
  {
   "cell_type": "code",
   "execution_count": 4,
   "metadata": {},
   "outputs": [],
   "source": [
    "from pymongo import MongoClient\n",
    "import pandas as pd\n",
    "import time\n",
    "\n",
    "client = MongoClient(\"localhost:27017\")\n",
    "db = client[\"ironhack\"]\n",
    "c=db.get_collection(\"Crunchbase\")"
   ]
  },
  {
   "cell_type": "markdown",
   "metadata": {},
   "source": [
    "### 1. All the companies whose name match 'Babelgum'. Retrieve only their `name` field."
   ]
  },
  {
   "cell_type": "code",
   "execution_count": 128,
   "metadata": {},
   "outputs": [
    {
     "data": {
      "text/plain": [
       "[{'name': 'Babelgum'}]"
      ]
     },
     "execution_count": 128,
     "metadata": {},
     "output_type": "execute_result"
    }
   ],
   "source": [
    "condition={\"name\":\"Babelgum\"}\n",
    "projection = {\"_id\":0,\"name\":1}\n",
    "\n",
    "list(c.find(condition, projection))"
   ]
  },
  {
   "cell_type": "markdown",
   "metadata": {},
   "source": [
    "### 2. All the companies that have more than 5000 employees. Limit the search to 20 companies and sort them by **number of employees**."
   ]
  },
  {
   "cell_type": "code",
   "execution_count": 169,
   "metadata": {},
   "outputs": [],
   "source": [
    "filter_ = {\"number_of_employees\":{\"$gt\": 5000}}\n",
    "\n",
    "result_2 = list(c.find(filter_).sort(\"number_of_employees\",-1).limit(20))\n"
   ]
  },
  {
   "cell_type": "markdown",
   "metadata": {},
   "source": [
    "### 3. All the companies founded between 2000 and 2005, both years included. Retrieve only the `name` and `founded_year` fields."
   ]
  },
  {
   "cell_type": "code",
   "execution_count": 170,
   "metadata": {},
   "outputs": [],
   "source": [
    "filter_1 = {\"founded_year\":{ \"$gte\": 2000}}\n",
    "filter_2 = {\"founded_year\":{ \"$lte\": 2005}}\n",
    "projection = {\"_id\":0,\"name\":1, \"founded_year\":1}\n",
    "\n",
    "result_3 = list(c.find({\"$and\": [filter_1, filter_2]}, projection))\n"
   ]
  },
  {
   "cell_type": "markdown",
   "metadata": {},
   "source": [
    "### 4. All the companies that had a Valuation Amount of more than 100.000.000 and have been founded before 2010. Retrieve only the `name` and `ipo` fields."
   ]
  },
  {
   "cell_type": "code",
   "execution_count": 171,
   "metadata": {},
   "outputs": [],
   "source": [
    "filter_1 = {\"ipo.valuation_amount\":{ \"$gt\": 100000000}}\n",
    "filter_2 = {\"founded_year\":{ \"$lt\": 2010}}\n",
    "projection = {\"_id\":0,\"name\":1, \"ipo\":1}\n",
    "\n",
    "result_4 = list(c.find({\"$and\": [filter_1, filter_2]}, projection))\n"
   ]
  },
  {
   "cell_type": "markdown",
   "metadata": {},
   "source": [
    "### 5. All the companies that have less than 1000 employees and have been founded before 2005. Order them by the number of employees and limit the search to 10 companies."
   ]
  },
  {
   "cell_type": "code",
   "execution_count": 172,
   "metadata": {},
   "outputs": [],
   "source": [
    "filter_1 = {\"number_of_employees\":{ \"$lt\": 1000}}\n",
    "filter_2 = {\"founded_year\":{ \"$lt\": 2005}}\n",
    "projection = {\"_id\":0,\"name\":1}\n",
    "\n",
    "result_5 = list(c.find({\"$and\": [filter_1, filter_2]}, projection).sort(\"number_of_employees\",-1).limit(10))\n"
   ]
  },
  {
   "cell_type": "markdown",
   "metadata": {},
   "source": [
    "### 6. All the companies that don't include the `partners` field."
   ]
  },
  {
   "cell_type": "code",
   "execution_count": 173,
   "metadata": {},
   "outputs": [],
   "source": [
    "result_6 = list(c.find({\"partners\": {\"$exists\":False}}))\n"
   ]
  },
  {
   "cell_type": "markdown",
   "metadata": {},
   "source": [
    "### 7. All the companies that have a null type of value on the `category_code` field."
   ]
  },
  {
   "cell_type": "code",
   "execution_count": 174,
   "metadata": {},
   "outputs": [],
   "source": [
    "projection = {\"_id\":0,\"name\":1}\n",
    "\n",
    "\n",
    "result_7 = list(c.find({\"category_code\": {\"$type\":10}},projection))\n"
   ]
  },
  {
   "cell_type": "markdown",
   "metadata": {},
   "source": [
    "### 8. All the companies that have at least 100 employees but less than 1000. Retrieve only the `name` and `number of employees` fields."
   ]
  },
  {
   "cell_type": "code",
   "execution_count": 175,
   "metadata": {},
   "outputs": [],
   "source": [
    "filter_1 = {\"number_of_employees\":{ \"$gte\": 100}}\n",
    "filter_2 = {\"number_of_employees\":{ \"$lt\": 1000}}\n",
    "projection = {\"_id\":0,\"name\":1, \"number_of_employees\":1}\n",
    "\n",
    "\n",
    "result_8 = list(c.find({\"$and\": [filter_1, filter_2]}, projection))\n"
   ]
  },
  {
   "cell_type": "markdown",
   "metadata": {},
   "source": [
    "### 9. Order all the companies by their IPO price in a descending order."
   ]
  },
  {
   "cell_type": "code",
   "execution_count": 176,
   "metadata": {
    "scrolled": true
   },
   "outputs": [],
   "source": [
    "filter_1 = {\"ipo.valuation_amount\": {\"$exists\":True}}\n",
    "projection = {\"_id\":0,\"name\":1}\n",
    "\n",
    "result_9 = list(c.find(filter_1, projection).sort(\"ipo.valuation_amount\", -1))\n"
   ]
  },
  {
   "cell_type": "code",
   "execution_count": 137,
   "metadata": {},
   "outputs": [
    {
     "data": {
      "text/plain": [
       "254"
      ]
     },
     "execution_count": 137,
     "metadata": {},
     "output_type": "execute_result"
    }
   ],
   "source": [
    "len(result)"
   ]
  },
  {
   "cell_type": "markdown",
   "metadata": {},
   "source": [
    "### 10. Retrieve the 10 companies with more employees, order by the `number of employees`"
   ]
  },
  {
   "cell_type": "code",
   "execution_count": 177,
   "metadata": {},
   "outputs": [],
   "source": [
    "\n",
    "filter_1 = {\"number_of_employees\":{ \"$gt\": 0}}\n",
    "projection = {\"_id\":0,\"name\":1, \"number_of_employees\":1}\n",
    "\n",
    "result_10 = list(c.find(filter_1, projection).sort(\"number_of_employees\", -1))[:10]\n"
   ]
  },
  {
   "cell_type": "markdown",
   "metadata": {},
   "source": [
    "### 11. All the companies founded on the second semester of the year. Limit your search to 1000 companies."
   ]
  },
  {
   "cell_type": "code",
   "execution_count": 178,
   "metadata": {},
   "outputs": [],
   "source": [
    "\n",
    "filter_2 = {\"founded_month\":{ \"$lt\": 6}}\n",
    "projection = {\"_id\":0,\"name\":1}\n",
    "\n",
    "\n",
    "result_11 = list(c.find({\"$and\": [filter_2]}, projection).limit(1000))\n"
   ]
  },
  {
   "cell_type": "markdown",
   "metadata": {},
   "source": [
    "### 12. All the companies founded before 2000 that have an acquisition amount of more than 10.000.00"
   ]
  },
  {
   "cell_type": "code",
   "execution_count": 179,
   "metadata": {
    "scrolled": true
   },
   "outputs": [],
   "source": [
    "filter_1 = {\"acquisition.price_amount\":{ \"$gt\": 10000}}\n",
    "filter_2 = {\"founded_year\":{ \"$lt\": 2000}}\n",
    "projection = {\"_id\":0,\"name\":1}\n",
    "\n",
    "\n",
    "result_12 = list(c.find({\"$and\": [filter_1, filter_2]}, projection))\n"
   ]
  },
  {
   "cell_type": "code",
   "execution_count": 141,
   "metadata": {},
   "outputs": [
    {
     "data": {
      "text/plain": [
       "254"
      ]
     },
     "execution_count": 141,
     "metadata": {},
     "output_type": "execute_result"
    }
   ],
   "source": [
    "len(result)"
   ]
  },
  {
   "cell_type": "markdown",
   "metadata": {},
   "source": [
    "### 13. All the companies that have been acquired after 2010, order by the acquisition amount, and retrieve only their `name` and `acquisition` field."
   ]
  },
  {
   "cell_type": "code",
   "execution_count": 180,
   "metadata": {
    "scrolled": true
   },
   "outputs": [],
   "source": [
    "filter_1 = {\"acquisition.acquired_year\":{ \"$gt\": 2010}}\n",
    "projection = {\"_id\":0,\"name\":1, \"acquisition\":1}\n",
    "\n",
    "\n",
    "result_13 = list(c.find(filter_1, projection).sort(\"acquisition.price_amount\",-1))\n"
   ]
  },
  {
   "cell_type": "markdown",
   "metadata": {},
   "source": [
    "### 14. Order the companies by their `founded year`, retrieving only their `name` and `founded year`."
   ]
  },
  {
   "cell_type": "code",
   "execution_count": 181,
   "metadata": {},
   "outputs": [],
   "source": [
    "projection = {\"_id\":0,\"name\":1, \"founded_year\":1}\n",
    "\n",
    "result_14 = list(c.find({}, projection).sort(\"founded_year\",-1))\n"
   ]
  },
  {
   "cell_type": "markdown",
   "metadata": {},
   "source": [
    "### 15. All the companies that have been founded on the first seven days of the month, including the seventh. Sort them by their `acquisition price` in a descending order. Limit the search to 10 documents."
   ]
  },
  {
   "cell_type": "code",
   "execution_count": 182,
   "metadata": {
    "scrolled": true
   },
   "outputs": [],
   "source": [
    "filter_1 = {\"founded_day\":{ \"$lte\": 7}}\n",
    "projection = {\"_id\":0,\"name\":1, \"acquisition\":1}\n",
    "\n",
    "\n",
    "result_15 = list(c.find(filter_1, projection).sort(\"acquisition.price_amount\",-1).limit(10))\n"
   ]
  },
  {
   "cell_type": "markdown",
   "metadata": {},
   "source": [
    "### 16. All the companies on the 'web' `category` that have more than 4000 employees. Sort them by the amount of employees in ascending order."
   ]
  },
  {
   "cell_type": "code",
   "execution_count": 183,
   "metadata": {
    "scrolled": true
   },
   "outputs": [],
   "source": [
    "filter_1 = {\"category_code\":\"web\"}\n",
    "filter_2 = {\"number_of_employees\":{ \"$gt\": 4000}}\n",
    "\n",
    "projection = {\"_id\":0,\"name\":1, \"number_of_employees\":1}\n",
    "\n",
    "\n",
    "result_16 = list(c.find({\"$and\": [filter_1, filter_2]}, projection).sort(\"number_of_employees\",-1))\n"
   ]
  },
  {
   "cell_type": "markdown",
   "metadata": {},
   "source": [
    "### 17. All the companies whose acquisition amount is more than 10.000.000, and currency is 'EUR'."
   ]
  },
  {
   "cell_type": "code",
   "execution_count": 184,
   "metadata": {},
   "outputs": [],
   "source": [
    "filter_1 = {\"acquisition.price_currency_code\":\"EUR\"}\n",
    "filter_2 = {\"acquisition.price_amount\":{ \"$gt\": 10000000}}\n",
    "\n",
    "projection = {\"_id\":0,\"name\":1}\n",
    "\n",
    "\n",
    "result_17 = list(c.find({\"$and\": [filter_1, filter_2]}, projection).sort(\"number_of_employees\",-1))\n",
    "\n"
   ]
  },
  {
   "cell_type": "markdown",
   "metadata": {},
   "source": [
    "### 18. All the companies that have been acquired on the first trimester of the year. Limit the search to 10 companies, and retrieve only their `name` and `acquisition` fields."
   ]
  },
  {
   "cell_type": "code",
   "execution_count": 185,
   "metadata": {},
   "outputs": [],
   "source": [
    "filter_ = {\"acquisition.acquired_month\":{ \"$lte\": 3}}\n",
    "\n",
    "projection = {\"_id\":0,\"name\":1, \"acquisition\":1}\n",
    "\n",
    "\n",
    "result_18 = list(c.find(filter_, projection).limit(10))\n"
   ]
  },
  {
   "cell_type": "markdown",
   "metadata": {},
   "source": [
    "# Bonus\n",
    "### 19. All the companies that have been founded between 2000 and 2010, but have not been acquired before 2011."
   ]
  },
  {
   "cell_type": "code",
   "execution_count": 186,
   "metadata": {
    "scrolled": true
   },
   "outputs": [],
   "source": [
    "filter_1 = {\"founded_year\":{\"$gt\":2000}}\n",
    "filter_2 = {\"founded_year\":{\"$lt\":2010}}\n",
    "filter_3 = {\"acquisition.acquired_year\":{ \"$gt\": 2011}}\n",
    "\n",
    "projection = {\"_id\":0,\"name\":1}\n",
    "\n",
    "\n",
    "result_b19 = list(c.find({\"$and\": [filter_1, filter_2, filter_3]}, projection))\n",
    "result_b19"
   ]
  },
  {
   "cell_type": "code",
   "execution_count": 188,
   "metadata": {},
   "outputs": [
    {
     "data": {
      "text/plain": [
       "254"
      ]
     },
     "execution_count": 188,
     "metadata": {},
     "output_type": "execute_result"
    }
   ],
   "source": [
    "len(result_b19)"
   ]
  },
  {
   "cell_type": "markdown",
   "metadata": {},
   "source": [
    "### 20. All the companies that have been 'deadpooled' after the third year."
   ]
  },
  {
   "cell_type": "code",
   "execution_count": 187,
   "metadata": {},
   "outputs": [],
   "source": [
    "projection = {\"_id\":0,\"name\":1, \"deadpooled_year\":1, \"founded_year\":1 }\n",
    "\n",
    "\n",
    "result_b20 = list(c.find({ \"$where\": \"this.deadpooled_year - this.founded_year > 3\"}, projection))\n"
   ]
  }
 ],
 "metadata": {
  "kernelspec": {
   "display_name": "Python 3 (ipykernel)",
   "language": "python",
   "name": "python3"
  },
  "language_info": {
   "codemirror_mode": {
    "name": "ipython",
    "version": 3
   },
   "file_extension": ".py",
   "mimetype": "text/x-python",
   "name": "python",
   "nbconvert_exporter": "python",
   "pygments_lexer": "ipython3",
   "version": "3.10.4"
  }
 },
 "nbformat": 4,
 "nbformat_minor": 2
}
