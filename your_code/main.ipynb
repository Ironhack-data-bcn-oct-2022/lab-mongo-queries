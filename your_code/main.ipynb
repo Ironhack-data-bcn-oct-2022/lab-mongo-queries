{
 "cells": [
  {
   "cell_type": "markdown",
   "metadata": {},
   "source": [
    "# Advanced Querying Mongo"
   ]
  },
  {
   "cell_type": "markdown",
   "metadata": {},
   "source": [
    "Importing libraries and setting up connection"
   ]
  },
  {
   "cell_type": "code",
   "execution_count": 4,
   "metadata": {},
   "outputs": [],
   "source": [
    "from pymongo import MongoClient\n",
    "import pandas as pd\n",
    "import time\n",
    "\n",
    "client = MongoClient(\"localhost:27017\")\n",
    "db = client[\"ironhack\"]\n",
    "c=db.get_collection(\"Crunchbase\")"
   ]
  },
  {
   "cell_type": "markdown",
   "metadata": {},
   "source": [
    "### 1. All the companies whose name match 'Babelgum'. Retrieve only their `name` field."
   ]
  },
  {
   "cell_type": "code",
   "execution_count": 128,
   "metadata": {},
   "outputs": [
    {
     "data": {
      "text/plain": [
       "[{'name': 'Babelgum'}]"
      ]
     },
     "execution_count": 128,
     "metadata": {},
     "output_type": "execute_result"
    }
   ],
   "source": [
    "condition={\"name\":\"Babelgum\"}\n",
    "projection = {\"_id\":0,\"name\":1}\n",
    "\n",
    "list(c.find(condition, projection))"
   ]
  },
  {
   "cell_type": "markdown",
   "metadata": {},
   "source": [
    "### 2. All the companies that have more than 5000 employees. Limit the search to 20 companies and sort them by **number of employees**."
   ]
  },
  {
   "cell_type": "code",
   "execution_count": 169,
   "metadata": {},
   "outputs": [],
   "source": [
    "filter_ = {\"number_of_employees\":{\"$gt\": 5000}}\n",
    "\n",
    "result_2 = list(c.find(filter_).sort(\"number_of_employees\",-1).limit(20))\n"
   ]
  },
  {
   "cell_type": "markdown",
   "metadata": {},
   "source": [
    "### 3. All the companies founded between 2000 and 2005, both years included. Retrieve only the `name` and `founded_year` fields."
   ]
  },
  {
   "cell_type": "code",
   "execution_count": 170,
   "metadata": {},
   "outputs": [],
   "source": [
    "filter_1 = {\"founded_year\":{ \"$gte\": 2000}}\n",
    "filter_2 = {\"founded_year\":{ \"$lte\": 2005}}\n",
    "projection = {\"_id\":0,\"name\":1, \"founded_year\":1}\n",
    "\n",
    "result_3 = list(c.find({\"$and\": [filter_1, filter_2]}, projection))\n"
   ]
  },
  {
   "cell_type": "markdown",
   "metadata": {},
   "source": [
    "### 4. All the companies that had a Valuation Amount of more than 100.000.000 and have been founded before 2010. Retrieve only the `name` and `ipo` fields."
   ]
  },
  {
   "cell_type": "code",
   "execution_count": 171,
   "metadata": {},
   "outputs": [],
   "source": [
    "filter_1 = {\"ipo.valuation_amount\":{ \"$gt\": 100000000}}\n",
    "filter_2 = {\"founded_year\":{ \"$lt\": 2010}}\n",
    "projection = {\"_id\":0,\"name\":1, \"ipo\":1}\n",
    "\n",
    "result_4 = list(c.find({\"$and\": [filter_1, filter_2]}, projection))\n"
   ]
  },
  {
   "cell_type": "markdown",
   "metadata": {},
   "source": [
    "### 5. All the companies that have less than 1000 employees and have been founded before 2005. Order them by the number of employees and limit the search to 10 companies."
   ]
  },
  {
   "cell_type": "code",
   "execution_count": 172,
   "metadata": {},
   "outputs": [],
   "source": [
    "filter_1 = {\"number_of_employees\":{ \"$lt\": 1000}}\n",
    "filter_2 = {\"founded_year\":{ \"$lt\": 2005}}\n",
    "projection = {\"_id\":0,\"name\":1}\n",
    "\n",
    "result_5 = list(c.find({\"$and\": [filter_1, filter_2]}, projection).sort(\"number_of_employees\",-1).limit(10))\n"
   ]
  },
  {
   "cell_type": "markdown",
   "metadata": {},
   "source": [
    "### 6. All the companies that don't include the `partners` field."
   ]
  },
  {
   "cell_type": "code",
   "execution_count": 173,
   "metadata": {},
   "outputs": [],
   "source": [
    "result_6 = list(c.find({\"partners\": {\"$exists\":False}}))\n"
   ]
  },
  {
   "cell_type": "markdown",
   "metadata": {},
   "source": [
    "### 7. All the companies that have a null type of value on the `category_code` field."
   ]
  },
  {
   "cell_type": "code",
   "execution_count": 174,
   "metadata": {},
   "outputs": [],
   "source": [
    "projection = {\"_id\":0,\"name\":1}\n",
    "\n",
    "\n",
    "result_7 = list(c.find({\"category_code\": {\"$type\":10}},projection))\n"
   ]
  },
  {
   "cell_type": "markdown",
   "metadata": {},
   "source": [
    "### 8. All the companies that have at least 100 employees but less than 1000. Retrieve only the `name` and `number of employees` fields."
   ]
  },
  {
   "cell_type": "code",
   "execution_count": 175,
   "metadata": {},
   "outputs": [],
   "source": [
    "filter_1 = {\"number_of_employees\":{ \"$gte\": 100}}\n",
    "filter_2 = {\"number_of_employees\":{ \"$lt\": 1000}}\n",
    "projection = {\"_id\":0,\"name\":1, \"number_of_employees\":1}\n",
    "\n",
    "\n",
    "result_8 = list(c.find({\"$and\": [filter_1, filter_2]}, projection))\n"
   ]
  },
  {
   "cell_type": "markdown",
   "metadata": {},
   "source": [
    "### 9. Order all the companies by their IPO price in a descending order."
   ]
  },
  {
   "cell_type": "code",
   "execution_count": 176,
   "metadata": {
    "scrolled": true
   },
   "outputs": [],
   "source": [
    "filter_1 = {\"ipo.valuation_amount\": {\"$exists\":True}}\n",
    "projection = {\"_id\":0,\"name\":1}\n",
    "\n",
    "result_9 = list(c.find(filter_1, projection).sort(\"ipo.valuation_amount\", -1))\n"
   ]
  },
  {
   "cell_type": "code",
   "execution_count": 137,
   "metadata": {},
   "outputs": [
    {
     "data": {
      "text/plain": [
       "254"
      ]
     },
     "execution_count": 137,
     "metadata": {},
     "output_type": "execute_result"
    }
   ],
   "source": [
    "len(result)"
   ]
  },
  {
   "cell_type": "markdown",
   "metadata": {},
   "source": [
    "### 10. Retrieve the 10 companies with more employees, order by the `number of employees`"
   ]
  },
  {
   "cell_type": "code",
   "execution_count": 177,
   "metadata": {},
   "outputs": [],
   "source": [
    "\n",
    "filter_1 = {\"number_of_employees\":{ \"$gt\": 0}}\n",
    "projection = {\"_id\":0,\"name\":1, \"number_of_employees\":1}\n",
    "\n",
    "result_10 = list(c.find(filter_1, projection).sort(\"number_of_employees\", -1))[:10]\n"
   ]
  },
  {
   "cell_type": "markdown",
   "metadata": {},
   "source": [
    "### 11. All the companies founded on the second semester of the year. Limit your search to 1000 companies."
   ]
  },
  {
   "cell_type": "code",
   "execution_count": 178,
   "metadata": {},
   "outputs": [],
   "source": [
    "\n",
    "filter_2 = {\"founded_month\":{ \"$lt\": 6}}\n",
    "projection = {\"_id\":0,\"name\":1}\n",
    "\n",
    "\n",
    "result_11 = list(c.find({\"$and\": [filter_2]}, projection).limit(1000))\n"
   ]
  },
  {
   "cell_type": "markdown",
   "metadata": {},
   "source": [
    "### 12. All the companies founded before 2000 that have an acquisition amount of more than 10.000.00"
   ]
  },
  {
   "cell_type": "code",
   "execution_count": 179,
   "metadata": {
    "scrolled": true
   },
   "outputs": [],
   "source": [
    "filter_1 = {\"acquisition.price_amount\":{ \"$gt\": 10000}}\n",
    "filter_2 = {\"founded_year\":{ \"$lt\": 2000}}\n",
    "projection = {\"_id\":0,\"name\":1}\n",
    "\n",
    "\n",
    "result_12 = list(c.find({\"$and\": [filter_1, filter_2]}, projection))\n"
   ]
  },
  {
   "cell_type": "code",
   "execution_count": 141,
   "metadata": {},
   "outputs": [
    {
     "data": {
      "text/plain": [
       "254"
      ]
     },
     "execution_count": 141,
     "metadata": {},
     "output_type": "execute_result"
    }
   ],
   "source": [
    "len(result)"
   ]
  },
  {
   "cell_type": "markdown",
   "metadata": {},
   "source": [
    "### 13. All the companies that have been acquired after 2010, order by the acquisition amount, and retrieve only their `name` and `acquisition` field."
   ]
  },
  {
   "cell_type": "code",
   "execution_count": 180,
   "metadata": {
    "scrolled": true
   },
   "outputs": [],
   "source": [
    "filter_1 = {\"acquisition.acquired_year\":{ \"$gt\": 2010}}\n",
    "projection = {\"_id\":0,\"name\":1, \"acquisition\":1}\n",
    "\n",
    "\n",
    "result_13 = list(c.find(filter_1, projection).sort(\"acquisition.price_amount\",-1))\n"
   ]
  },
  {
   "cell_type": "markdown",
   "metadata": {},
   "source": [
    "### 14. Order the companies by their `founded year`, retrieving only their `name` and `founded year`."
   ]
  },
  {
   "cell_type": "code",
   "execution_count": 181,
   "metadata": {},
   "outputs": [],
   "source": [
    "projection = {\"_id\":0,\"name\":1, \"founded_year\":1}\n",
    "\n",
    "result_14 = list(c.find({}, projection).sort(\"founded_year\",-1))\n"
   ]
  },
  {
   "cell_type": "markdown",
   "metadata": {},
   "source": [
    "### 15. All the companies that have been founded on the first seven days of the month, including the seventh. Sort them by their `acquisition price` in a descending order. Limit the search to 10 documents."
   ]
  },
  {
   "cell_type": "code",
   "execution_count": 182,
   "metadata": {
    "scrolled": true
   },
   "outputs": [],
   "source": [
    "filter_1 = {\"founded_day\":{ \"$lte\": 7}}\n",
    "projection = {\"_id\":0,\"name\":1, \"acquisition\":1}\n",
    "\n",
    "\n",
    "result_15 = list(c.find(filter_1, projection).sort(\"acquisition.price_amount\",-1).limit(10))\n"
   ]
  },
  {
   "cell_type": "markdown",
   "metadata": {},
   "source": [
    "### 16. All the companies on the 'web' `category` that have more than 4000 employees. Sort them by the amount of employees in ascending order."
   ]
  },
  {
   "cell_type": "code",
   "execution_count": 183,
   "metadata": {
    "scrolled": true
   },
   "outputs": [],
   "source": [
    "filter_1 = {\"category_code\":\"web\"}\n",
    "filter_2 = {\"number_of_employees\":{ \"$gt\": 4000}}\n",
    "\n",
    "projection = {\"_id\":0,\"name\":1, \"number_of_employees\":1}\n",
    "\n",
    "\n",
    "result_16 = list(c.find({\"$and\": [filter_1, filter_2]}, projection).sort(\"number_of_employees\",-1))\n"
   ]
  },
  {
   "cell_type": "markdown",
   "metadata": {},
   "source": [
    "### 17. All the companies whose acquisition amount is more than 10.000.000, and currency is 'EUR'."
   ]
  },
  {
   "cell_type": "code",
   "execution_count": 184,
   "metadata": {},
   "outputs": [],
   "source": [
    "filter_1 = {\"acquisition.price_currency_code\":\"EUR\"}\n",
    "filter_2 = {\"acquisition.price_amount\":{ \"$gt\": 10000000}}\n",
    "\n",
    "projection = {\"_id\":0,\"name\":1}\n",
    "\n",
    "\n",
    "result_17 = list(c.find({\"$and\": [filter_1, filter_2]}, projection).sort(\"number_of_employees\",-1))\n",
    "\n"
   ]
  },
  {
   "cell_type": "markdown",
   "metadata": {},
   "source": [
    "### 18. All the companies that have been acquired on the first trimester of the year. Limit the search to 10 companies, and retrieve only their `name` and `acquisition` fields."
   ]
  },
  {
   "cell_type": "code",
   "execution_count": 185,
   "metadata": {},
   "outputs": [],
   "source": [
    "filter_ = {\"acquisition.acquired_month\":{ \"$lte\": 3}}\n",
    "\n",
    "projection = {\"_id\":0,\"name\":1, \"acquisition\":1}\n",
    "\n",
    "\n",
    "result_18 = list(c.find(filter_, projection).limit(10))\n"
   ]
  },
  {
   "cell_type": "markdown",
   "metadata": {},
   "source": [
    "# Bonus\n",
    "### 19. All the companies that have been founded between 2000 and 2010, but have not been acquired before 2011."
   ]
  },
  {
   "cell_type": "code",
   "execution_count": 189,
   "metadata": {
    "scrolled": true
   },
   "outputs": [
    {
     "data": {
      "text/plain": [
       "[{'name': 'Wetpaint'},\n",
       " {'name': 'Digg'},\n",
       " {'name': 'Geni'},\n",
       " {'name': 'blogTV'},\n",
       " {'name': 'Revision3'},\n",
       " {'name': 'iContact'},\n",
       " {'name': 'Mashery'},\n",
       " {'name': 'Dailymotion'},\n",
       " {'name': 'KickApps'},\n",
       " {'name': 'Netvibes'},\n",
       " {'name': 'adBrite'},\n",
       " {'name': 'Meebo'},\n",
       " {'name': 'Seesmic'},\n",
       " {'name': 'Oodle'},\n",
       " {'name': 'Indeed'},\n",
       " {'name': 'Grockit'},\n",
       " {'name': 'Zenfolio'},\n",
       " {'name': 'Wishpot'},\n",
       " {'name': 'Retrevo'},\n",
       " {'name': 'TokBox'},\n",
       " {'name': 'Docstoc'},\n",
       " {'name': 'sezmi'},\n",
       " {'name': 'LocaModa'},\n",
       " {'name': 'OMGPOP'},\n",
       " {'name': 'Daylife'},\n",
       " {'name': 'Behance'},\n",
       " {'name': 'Attributor'},\n",
       " {'name': 'Viewdle'},\n",
       " {'name': 'Clickable'},\n",
       " {'name': 'Xobni'},\n",
       " {'name': 'Sermo'},\n",
       " {'name': 'Worklight'},\n",
       " {'name': 'Zimbra'},\n",
       " {'name': 'earthmine'},\n",
       " {'name': 'Whiskey Media'},\n",
       " {'name': 'CondoDomain'},\n",
       " {'name': 'Uptake'},\n",
       " {'name': 'AdReady'},\n",
       " {'name': 'The Climate Corporation'},\n",
       " {'name': 'Tumblr'},\n",
       " {'name': 'JackBe'},\n",
       " {'name': 'Rollbase'},\n",
       " {'name': 'Marakana'},\n",
       " {'name': 'Peer39'},\n",
       " {'name': 'Vitrue'},\n",
       " {'name': 'Loopt'},\n",
       " {'name': 'Mogreet'},\n",
       " {'name': 'UpNext'},\n",
       " {'name': 'TrustedID'},\n",
       " {'name': 'SocialPicks'},\n",
       " {'name': 'Shipwire'},\n",
       " {'name': 'Goodreads'},\n",
       " {'name': 'KAYAK'},\n",
       " {'name': 'Meraki'},\n",
       " {'name': 'Jobfox'},\n",
       " {'name': 'Outspark'},\n",
       " {'name': 'Livemocha'},\n",
       " {'name': 'SuccessFactors'},\n",
       " {'name': 'Amobee'},\n",
       " {'name': 'Taptu'},\n",
       " {'name': 'BreakingPoint Systems'},\n",
       " {'name': 'Qype'},\n",
       " {'name': 'MOG'},\n",
       " {'name': 'Paprika Lab'},\n",
       " {'name': 'Camlink'},\n",
       " {'name': 'Particle'},\n",
       " {'name': 'PacketFront'},\n",
       " {'name': 'Star Analytics'},\n",
       " {'name': 'Replay Solutions'},\n",
       " {'name': 'SignalDemand'},\n",
       " {'name': 'Planypus'},\n",
       " {'name': 'Snipshot'},\n",
       " {'name': 'OrangeSoda'},\n",
       " {'name': 'Trendrr'},\n",
       " {'name': 'Weplay'},\n",
       " {'name': 'Vivity Labs'},\n",
       " {'name': 'MediaWhiz'},\n",
       " {'name': 'mediaFORGE'},\n",
       " {'name': 'Trunkt'},\n",
       " {'name': 'Compfight'},\n",
       " {'name': 'Salesconx'},\n",
       " {'name': 'Collective Intellect'},\n",
       " {'name': 'EQAL'},\n",
       " {'name': 'LOVEFiLM'},\n",
       " {'name': 'TeachStreet'},\n",
       " {'name': 'Mollom'},\n",
       " {'name': 'Android'},\n",
       " {'name': 'Syncplicity'},\n",
       " {'name': 'PrimeSense'},\n",
       " {'name': 'FuGen Solutions'},\n",
       " {'name': 'ClairMail'},\n",
       " {'name': 'CitizenHawk'},\n",
       " {'name': 'Tupalo'},\n",
       " {'name': 'Acquity Group'},\n",
       " {'name': 'BelAir Networks'},\n",
       " {'name': 'Pivot'},\n",
       " {'name': 'Sense Networks'},\n",
       " {'name': 'Wilogo'},\n",
       " {'name': 'Boxee'},\n",
       " {'name': 'Instinctiv'},\n",
       " {'name': 'Posterous'},\n",
       " {'name': 'National Transcript Center'},\n",
       " {'name': 'Praxis Language'},\n",
       " {'name': 'Saffron Digital'},\n",
       " {'name': 'Involver'},\n",
       " {'name': 'Truviso'},\n",
       " {'name': 'ADCentricity'},\n",
       " {'name': 'Leafish'},\n",
       " {'name': 'Napera Networks'},\n",
       " {'name': 'Buysight'},\n",
       " {'name': 'RentMineOnline'},\n",
       " {'name': 'InstallFree'},\n",
       " {'name': 'Likewise Software'},\n",
       " {'name': 'ZManda'},\n",
       " {'name': 'bTendo'},\n",
       " {'name': 'Synchronica'},\n",
       " {'name': 'ReTel Technologies'},\n",
       " {'name': 'PPTV'},\n",
       " {'name': 'Jumptap'},\n",
       " {'name': 'Producteev'},\n",
       " {'name': 'Yammer'},\n",
       " {'name': 'GoodGuide'},\n",
       " {'name': 'Intela'},\n",
       " {'name': 'AUPEO!'},\n",
       " {'name': 'InstallFree'},\n",
       " {'name': 'Likewise Software'},\n",
       " {'name': 'ZManda'},\n",
       " {'name': 'bTendo'},\n",
       " {'name': 'Synchronica'},\n",
       " {'name': 'ReTel Technologies'},\n",
       " {'name': 'PPTV'},\n",
       " {'name': 'Jumptap'},\n",
       " {'name': 'Producteev'},\n",
       " {'name': 'Yammer'},\n",
       " {'name': 'GoodGuide'},\n",
       " {'name': 'Intela'},\n",
       " {'name': 'AUPEO!'},\n",
       " {'name': 'LogLogic'},\n",
       " {'name': 'CoreTrace'},\n",
       " {'name': 'Twittertise'},\n",
       " {'name': 'Wiggio'},\n",
       " {'name': 'Avaak'},\n",
       " {'name': 'Kiva Systems'},\n",
       " {'name': 'CarZen'},\n",
       " {'name': 'Globrix'},\n",
       " {'name': 'Games2Win'},\n",
       " {'name': 'Trusteer'},\n",
       " {'name': 'Citizenside'},\n",
       " {'name': 'Clearwire'},\n",
       " {'name': 'Ascribe'},\n",
       " {'name': 'Imagine Communications'},\n",
       " {'name': 'HyperWeek'},\n",
       " {'name': 'Webedia'},\n",
       " {'name': 'expressor software'},\n",
       " {'name': 'mFoundry'},\n",
       " {'name': 'Pardot'},\n",
       " {'name': '3X Systems'},\n",
       " {'name': 'Circle of Moms'},\n",
       " {'name': 'Quantivo'},\n",
       " {'name': 'Silver Tail Systems'},\n",
       " {'name': 'Arc90'},\n",
       " {'name': 'Rhythm NewMedia'},\n",
       " {'name': 'GoGo Lingo'},\n",
       " {'name': 'SenSage'},\n",
       " {'name': 'Oberon Media'},\n",
       " {'name': 'Virident Systems'},\n",
       " {'name': 'Better Place'},\n",
       " {'name': 'Mu Dynamics'},\n",
       " {'name': 'Multigig'},\n",
       " {'name': 'Sensory Networks'},\n",
       " {'name': 'ID Analytics'},\n",
       " {'name': 'Socialbomb'},\n",
       " {'name': 'CureTogether'},\n",
       " {'name': 'Demotix'},\n",
       " {'name': 'NorthStar Systems International'},\n",
       " {'name': 'ParAccel'},\n",
       " {'name': 'Vocalocity'},\n",
       " {'name': 'PhoneFactor'},\n",
       " {'name': 'Liquid Air Lab'},\n",
       " {'name': 'Open Kernel Labs'},\n",
       " {'name': 'Crossing Automation'},\n",
       " {'name': 'DesignArt Networks'},\n",
       " {'name': 'HYFN'},\n",
       " {'name': 'Neuralitic Systems'},\n",
       " {'name': 'TRAFFIQ'},\n",
       " {'name': 'Virtual Computer'},\n",
       " {'name': 'Audiolife'},\n",
       " {'name': 'VirtuOz'},\n",
       " {'name': 'Shutl'},\n",
       " {'name': 'Neverblue'},\n",
       " {'name': 'Socialize'},\n",
       " {'name': 'Oversi'},\n",
       " {'name': 'ScienceOps'},\n",
       " {'name': 'TopCoder'},\n",
       " {'name': 'Strangeloop Networks'},\n",
       " {'name': 'Outright'},\n",
       " {'name': 'Sourcefire'},\n",
       " {'name': 'Enclarity'},\n",
       " {'name': 'Mendeley'},\n",
       " {'name': 'Tynt'},\n",
       " {'name': 'Pixmac'},\n",
       " {'name': 'Zenprise'},\n",
       " {'name': 'Republic Project'},\n",
       " {'name': 'Preview Networks'},\n",
       " {'name': 'iPropertyWebsites'},\n",
       " {'name': 'CheapCheapCheap'},\n",
       " {'name': 'Joobili'},\n",
       " {'name': 'EnergyHub'},\n",
       " {'name': 'avVenta'},\n",
       " {'name': 'IMASTE'},\n",
       " {'name': 'Solera Networks'},\n",
       " {'name': 'Zencoder'},\n",
       " {'name': 'Instapaper'},\n",
       " {'name': 'Infochimps'},\n",
       " {'name': 'GigLocator'},\n",
       " {'name': 'Wefollow'},\n",
       " {'name': 'Fotomoto'},\n",
       " {'name': 'Vital Networks'},\n",
       " {'name': 'Arieso'},\n",
       " {'name': 'Playfire'},\n",
       " {'name': 'Miyowa'},\n",
       " {'name': '1000 Markets'},\n",
       " {'name': 'TxVia'},\n",
       " {'name': 'gdgt'},\n",
       " {'name': 'Rhythmia Medical'},\n",
       " {'name': 'CardStar'},\n",
       " {'name': 'Topsy Labs'},\n",
       " {'name': 'Hara'},\n",
       " {'name': 'Blip'},\n",
       " {'name': 'Pasteuria Bioscience'},\n",
       " {'name': 'Social Shore'},\n",
       " {'name': 'Pixable'},\n",
       " {'name': 'Certify Data Systems'},\n",
       " {'name': 'Semprus BioSciences'},\n",
       " {'name': 'Aragon Pharmaceuticals'},\n",
       " {'name': 'Xsigo'},\n",
       " {'name': 'FastSoft'},\n",
       " {'name': 'oneDrum'},\n",
       " {'name': 'tarpipe'},\n",
       " {'name': 'Makani Power'},\n",
       " {'name': 'Peekspy'},\n",
       " {'name': 'Enpirion'},\n",
       " {'name': 'Pearl Therapeutics'},\n",
       " {'name': 'Aveksa'},\n",
       " {'name': 'Layer 7 Technologies'},\n",
       " {'name': 'Clean Mobile'},\n",
       " {'name': 'StreamBase Systems'},\n",
       " {'name': 'SoftLayer'},\n",
       " {'name': 'Liquavista'},\n",
       " {'name': 'Aspera'},\n",
       " {'name': 'Bump Technologies'},\n",
       " {'name': 'ALOT'},\n",
       " {'name': 'OptiMedica'},\n",
       " {'name': 'Luminus Devices'}]"
      ]
     },
     "execution_count": 189,
     "metadata": {},
     "output_type": "execute_result"
    }
   ],
   "source": [
    "filter_1 = {\"founded_year\":{\"$gt\":2000}}\n",
    "filter_2 = {\"founded_year\":{\"$lt\":2010}}\n",
    "filter_3 = {\"acquisition.acquired_year\":{ \"$gt\": 2011}}\n",
    "\n",
    "projection = {\"_id\":0,\"name\":1}\n",
    "\n",
    "\n",
    "result_b19 = list(c.find({\"$and\": [filter_1, filter_2, filter_3]}, projection))\n",
    "result_b19"
   ]
  },
  {
   "cell_type": "markdown",
   "metadata": {},
   "source": [
    "### 20. All the companies that have been 'deadpooled' after the third year."
   ]
  },
  {
   "cell_type": "code",
   "execution_count": 204,
   "metadata": {},
   "outputs": [],
   "source": [
    "filter_1 = {\"deadpooled_year\":{\"$gt\":1800}}\n",
    "filter_2 = { \"$where\": \"this.deadpooled_year - this.founded_year > 3\"}\n",
    "filter_3 = {\"founded_year\":{\"$gt\":1800}}\n",
    "\n",
    "projection = {\"_id\":0,\"name\":1, \"deadpooled_year\":1, \"founded_year\":1 }\n",
    "\n",
    "\n",
    "result_b20 = list(c.find({\"$and\": [filter_1, filter_2, filter_3]}, projection))\n"
   ]
  },
  {
   "cell_type": "code",
   "execution_count": 201,
   "metadata": {},
   "outputs": [
    {
     "data": {
      "text/plain": [
       "437"
      ]
     },
     "execution_count": 201,
     "metadata": {},
     "output_type": "execute_result"
    }
   ],
   "source": [
    "len(result_b20)"
   ]
  }
 ],
 "metadata": {
  "kernelspec": {
   "display_name": "Python 3 (ipykernel)",
   "language": "python",
   "name": "python3"
  },
  "language_info": {
   "codemirror_mode": {
    "name": "ipython",
    "version": 3
   },
   "file_extension": ".py",
   "mimetype": "text/x-python",
   "name": "python",
   "nbconvert_exporter": "python",
   "pygments_lexer": "ipython3",
   "version": "3.10.4"
  }
 },
 "nbformat": 4,
 "nbformat_minor": 2
}
