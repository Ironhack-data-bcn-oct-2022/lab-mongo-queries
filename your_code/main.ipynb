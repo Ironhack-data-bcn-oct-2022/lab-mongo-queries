{
 "cells": [
  {
   "cell_type": "markdown",
   "metadata": {},
   "source": [
    "# Advanced Querying Mongo"
   ]
  },
  {
   "cell_type": "markdown",
   "metadata": {},
   "source": [
    "Importing libraries and setting up connection"
   ]
  },
  {
   "cell_type": "code",
   "execution_count": null,
   "metadata": {},
   "outputs": [],
   "source": [
    "from pymongo import MongoClient\n",
    "import pandas as pd\n",
    "import time\n",
    "client = MongoClient(\"localhost:27017\")\n",
    "\n",
    "client.list_database_names()"
   ]
  },
  {
   "cell_type": "markdown",
   "metadata": {},
   "source": [
    "### 1. All the companies whose name match 'Babelgum'. Retrieve only their `name` field."
   ]
  },
  {
   "cell_type": "code",
   "execution_count": null,
   "metadata": {},
   "outputs": [],
   "source": [
    "db= client['Ironhack']\n",
    "db.list_collection_names()\n",
    "c= db.get_collection('companies')\n",
    "result= (list(c.find({\"name\":'Babelgum'}, {'name':1, '_id':0})))\n",
    "result"
   ]
  },
  {
   "cell_type": "markdown",
   "metadata": {},
   "source": [
    "### 2. All the companies that have more than 5000 employees. Limit the search to 20 companies and sort them by **number of employees**."
   ]
  },
  {
   "cell_type": "code",
   "execution_count": null,
   "metadata": {},
   "outputs": [],
   "source": [
    "result= (list(c.find({\"number_of_employees\": {'$gt':5000}}, {'name':1, '_id':0, 'number_of_employees':1}).sort('number_of_employees',-1).limit(20)))\n",
    "result"
   ]
  },
  {
   "cell_type": "markdown",
   "metadata": {},
   "source": [
    "### 3. All the companies founded between 2000 and 2005, both years included. Retrieve only the `name` and `founded_year` fields."
   ]
  },
  {
   "cell_type": "code",
   "execution_count": null,
   "metadata": {},
   "outputs": [],
   "source": [
    "filter_1= {'founded_year': {'$gte': 2000}}\n",
    "filter_2= {'founded_year': {'$lte': 2005}}\n",
    "projection= {'name':1, \"_id\": 0, 'founded_year':1}\n",
    "\n",
    "list(c.find({\"$and\": [filter_1, filter_2]}, projection).limit(10))"
   ]
  },
  {
   "cell_type": "markdown",
   "metadata": {},
   "source": [
    "### 4. All the companies that had a Valuation Amount of more than 100.000.000 and have been founded before 2010. Retrieve only the `name` and `ipo` fields."
   ]
  },
  {
   "cell_type": "code",
   "execution_count": null,
   "metadata": {},
   "outputs": [],
   "source": [
    "filter_2= {'ipo': {'$ne':{'$type': 'null'}}}\n",
    "\n",
    "projection= {'name':1, \"_id\": 0, 'ipo':1}\n",
    "\n",
    "resultnull= list(c.find(filter_2, projection).sort('ipo', -1).limit(20))\n",
    "resultnull\n",
    "\n",
    "filter_1= {'ipo.valuation_amount': {'$gt': 100000000}}\n",
    "filter_2= {'founded_year': {'$lt': 2010}}\n",
    "projection= {'name':1, \"_id\": 0, 'ipo':1}\n",
    "\n",
    "ipolist= list(c.find({\"$and\": [filter_1, filter_2]}, projection).limit(10))\n",
    "ipolist"
   ]
  },
  {
   "cell_type": "markdown",
   "metadata": {},
   "source": [
    "### 5. All the companies that have less than 1000 employees and have been founded before 2005. Order them by the number of employees and limit the search to 10 companies."
   ]
  },
  {
   "cell_type": "code",
   "execution_count": null,
   "metadata": {},
   "outputs": [],
   "source": [
    "filter_1= {'number_of_employees': {'$lt': 1000}}\n",
    "filter_2= {'founded_year': {'$lt': 2005}}\n",
    "projection= {'name':1, \"_id\": 0,'number_of_employees':1 }\n",
    "\n",
    "RESULT= list(c.find({\"$and\": [filter_1, filter_2]}, projection).sort('number_of_employees', -1).limit(10))\n",
    "RESULT"
   ]
  },
  {
   "cell_type": "markdown",
   "metadata": {},
   "source": [
    "### 6. All the companies that don't include the `partners` field."
   ]
  },
  {
   "cell_type": "code",
   "execution_count": null,
   "metadata": {},
   "outputs": [],
   "source": [
    "filter_1= {'partners': {'$ne': 'null'} }\n",
    "\n",
    "projection= {'name':1, \"_id\": 0}\n",
    "\n",
    "doi= list(c.find(filter_1, projection))\n",
    "len(doi)\n",
    "\n",
    "resultnull= list(c.find(filter_1, projection).limit(10))\n",
    "resultnull"
   ]
  },
  {
   "cell_type": "markdown",
   "metadata": {},
   "source": [
    "### 7. All the companies that have a null type of value on the `category_code` field."
   ]
  },
  {
   "cell_type": "code",
   "execution_count": null,
   "metadata": {},
   "outputs": [],
   "source": [
    "filter_1= {'category_code': {'$type': 'null'} }\n",
    "\n",
    "projection= {'name':1, \"_id\": 0}\n",
    "\n",
    "resultnull= list(c.find(filter_1, projection).limit(10))\n",
    "resultnull"
   ]
  },
  {
   "cell_type": "markdown",
   "metadata": {},
   "source": [
    "### 8. All the companies that have at least 100 employees but less than 1000. Retrieve only the `name` and `number of employees` fields."
   ]
  },
  {
   "cell_type": "code",
   "execution_count": null,
   "metadata": {},
   "outputs": [],
   "source": [
    "filter_1= {'number_of_employees': {'$gte': 100}}\n",
    "filter_2= {'number_of_employees': {'$lt': 1000}}\n",
    "projection= {'name':1, \"_id\": 0,'number_of_employees':1 }\n",
    "\n",
    "RESULT= list(c.find({\"$and\": [filter_1, filter_2]}, projection).limit(10))\n",
    "len(RESULT)"
   ]
  },
  {
   "cell_type": "markdown",
   "metadata": {},
   "source": [
    "### 9. Order all the companies by their IPO price in a descending order."
   ]
  },
  {
   "cell_type": "code",
   "execution_count": null,
   "metadata": {},
   "outputs": [],
   "source": [
    "filter_1= {'ipo': {\"$exists\": True}}\n",
    "\n",
    "projection= {'name':1, \"_id\": 0, 'ipo.valuation_amount':1}\n",
    "\n",
    "ipolist= list(c.find(filter_1, projection).sort('ipo.valuation_amount', -1).limit(10))\n",
    "ipolist"
   ]
  },
  {
   "cell_type": "markdown",
   "metadata": {},
   "source": [
    "### 10. Retrieve the 10 companies with more employees, order by the `number of employees`"
   ]
  },
  {
   "cell_type": "code",
   "execution_count": null,
   "metadata": {},
   "outputs": [],
   "source": [
    "filter_1= {'number_of_employees': {\"$exists\": True}}\n",
    "\n",
    "projection= {'name':1, \"_id\": 0, 'number_of_employees':1}\n",
    "\n",
    "emplist= list(c.find(filter_1, projection).sort('number_of_employees', -1).limit(10))\n",
    "emplist"
   ]
  },
  {
   "cell_type": "markdown",
   "metadata": {},
   "source": [
    "### 11. All the companies founded on the second semester of the year. Limit your search to 1000 companies."
   ]
  },
  {
   "cell_type": "code",
   "execution_count": null,
   "metadata": {},
   "outputs": [],
   "source": [
    "filter_1= {'founded_month': {\"$gte\": 6}}\n",
    "\n",
    "projection= {'name':1, \"_id\": 0, 'founded_month': 1}\n",
    "\n",
    "emplist= list(c.find(filter_1, projection).limit(1000))\n",
    "emplist"
   ]
  },
  {
   "cell_type": "markdown",
   "metadata": {},
   "source": [
    "### 12. All the companies founded before 2000 that have an acquisition amount of more than 10.000.00"
   ]
  },
  {
   "cell_type": "code",
   "execution_count": null,
   "metadata": {},
   "outputs": [],
   "source": [
    "filter_1= {'founded_year': {\"$lt\": 2000}}\n",
    "filter_2= {'acquisition.price_amount': {\"$gt\": 1000000}}\n",
    "projection= {'name':1, \"_id\": 0, 'founded_year': 1, 'acquisition.price_amount':1}\n",
    "\n",
    "aclist= list(c.find({\"$and\": [filter_1, filter_2]}, projection).limit(10))\n",
    "len(aclist)"
   ]
  },
  {
   "cell_type": "markdown",
   "metadata": {},
   "source": [
    "### 13. All the companies that have been acquired after 2010, order by the acquisition amount, and retrieve only their `name` and `acquisition` field."
   ]
  },
  {
   "cell_type": "code",
   "execution_count": null,
   "metadata": {},
   "outputs": [],
   "source": [
    "filter_1= {'founded_year': {\"$gt\": 2010}}\n",
    "\n",
    "projection= {'name':1, \"_id\": 0, 'acquisition':1}\n",
    "\n",
    "aclist= list(c.find(filter_1, projection).sort('acquisition.price_amount',1).limit(10))\n",
    "aclist"
   ]
  },
  {
   "cell_type": "markdown",
   "metadata": {},
   "source": [
    "### 14. Order the companies by their `founded year`, retrieving only their `name` and `founded year`."
   ]
  },
  {
   "cell_type": "code",
   "execution_count": null,
   "metadata": {},
   "outputs": [],
   "source": [
    "filter_1= {'founded_year': {\"$exists\": True}}\n",
    "\n",
    "projection= {'name':1, \"_id\": 0, 'founded_year':1}\n",
    "\n",
    "yrlist= list(c.find(filter_1, projection).limit(10))\n",
    "yrlist\n"
   ]
  },
  {
   "cell_type": "markdown",
   "metadata": {},
   "source": [
    "### 15. All the companies that have been founded on the first seven days of the month, including the seventh. Sort them by their `acquisition price` in a descending order. Limit the search to 10 documents."
   ]
  },
  {
   "cell_type": "code",
   "execution_count": null,
   "metadata": {},
   "outputs": [],
   "source": [
    "filter_1= {'founded_day': {\"$lte\": 7}}\n",
    "\n",
    "projection= {'name':1, \"_id\": 0, 'founded_year': 1}\n",
    "\n",
    "ac7list= list(c.find(filter_1, projection).sort('acquisition.price_amount',-1).limit(10))\n",
    "ac7list"
   ]
  },
  {
   "cell_type": "markdown",
   "metadata": {},
   "source": [
    "### 16. All the companies on the 'web' `category` that have more than 4000 employees. Sort them by the amount of employees in ascending order."
   ]
  },
  {
   "cell_type": "code",
   "execution_count": null,
   "metadata": {},
   "outputs": [],
   "source": [
    "filter_1= {'category_code': 'web'}\n",
    "filter_2= {'number_of_employees': {\"$gt\": 4000}}\n",
    "\n",
    "projection= {'number_of_employees':1, \"_id\": 0, 'name':1}\n",
    "\n",
    "webemp= list(c.find({\"$and\": [filter_1, filter_2]}, projection))\n",
    "webemp"
   ]
  },
  {
   "cell_type": "markdown",
   "metadata": {},
   "source": [
    "### 17. All the companies whose acquisition amount is more than 10.000.000, and currency is 'EUR'."
   ]
  },
  {
   "cell_type": "code",
   "execution_count": null,
   "metadata": {},
   "outputs": [],
   "source": [
    "filter_1= {'acquisition.price_currency_code': 'EUR'}\n",
    "filter_2= {'acquisition.price_amount': {\"$gt\": 10000000}}\n",
    "projection= {'name':1, \"_id\": 0, 'acquisition.price_currency_code': 1, 'acquisition.price_amount':1}\n",
    "\n",
    "eur= list(c.find({\"$and\": [filter_1, filter_2]}, projection).limit(10))\n",
    "eur"
   ]
  },
  {
   "cell_type": "markdown",
   "metadata": {},
   "source": [
    "### 18. All the companies that have been acquired on the first trimester of the year. Limit the search to 10 companies, and retrieve only their `name` and `acquisition` fields."
   ]
  },
  {
   "cell_type": "code",
   "execution_count": null,
   "metadata": {},
   "outputs": [],
   "source": [
    "filter_1= {'founded_month': {'$in': [1,2,3]}}\n",
    "projection= {'name':1, \"_id\": 0, 'acquisition': 1}\n",
    "\n",
    "tri= list(c.find(filter_1, projection).limit(10))\n",
    "tri\n"
   ]
  },
  {
   "cell_type": "markdown",
   "metadata": {},
   "source": [
    "# Bonus\n",
    "### 19. All the companies that have been founded between 2000 and 2010, but have not been acquired before 2011."
   ]
  },
  {
   "cell_type": "code",
   "execution_count": null,
   "metadata": {},
   "outputs": [],
   "source": [
    "filter_1= {'founded_year': {'$gte': 2000}}\n",
    "filter_2= {'founded_year': {'$lte': 2010}}\n",
    "filter_3= {'acquisition.acquired_year': {'$gte':2011}}\n",
    "projection= {'name':1, \"_id\": 0, 'founded_year':1}\n",
    "\n",
    "tri= list(c.find({\"$and\": [filter_1,filter_2,filter_3]}, projection).limit(10))\n",
    "tri"
   ]
  },
  {
   "cell_type": "markdown",
   "metadata": {},
   "source": [
    "### 20. All the companies that have been 'deadpooled' after the third year."
   ]
  },
  {
   "cell_type": "code",
   "execution_count": null,
   "metadata": {},
   "outputs": [],
   "source": []
  }
 ],
 "metadata": {
  "kernelspec": {
   "display_name": "Python 3",
   "language": "python",
   "name": "python3"
  },
  "language_info": {
   "codemirror_mode": {
    "name": "ipython",
    "version": 3
   },
   "file_extension": ".py",
   "mimetype": "text/x-python",
   "name": "python",
   "nbconvert_exporter": "python",
   "pygments_lexer": "ipython3",
   "version": "3.7.5"
  }
 },
 "nbformat": 4,
 "nbformat_minor": 2
}
