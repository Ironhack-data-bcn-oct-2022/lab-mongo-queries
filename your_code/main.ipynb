{
 "cells": [
  {
   "cell_type": "markdown",
   "metadata": {},
   "source": [
    "# Advanced Querying Mongo"
   ]
  },
  {
   "cell_type": "markdown",
   "metadata": {},
   "source": [
    "Importing libraries and setting up connection"
   ]
  },
  {
   "cell_type": "code",
   "execution_count": 132,
   "metadata": {},
   "outputs": [],
   "source": [
    "from pymongo import MongoClient\n",
    "client = MongoClient(\"localhost:27017\")\n",
    "import pandas as pd"
   ]
  },
  {
   "cell_type": "markdown",
   "metadata": {},
   "source": [
    "### 1. All the companies whose name match 'Babelgum'. Retrieve only their `name` field."
   ]
  },
  {
   "cell_type": "code",
   "execution_count": 64,
   "metadata": {},
   "outputs": [],
   "source": [
    "db = client[\"Ironhack\"]\n",
    "c = db.get_collection(\"Companies\")\n",
    "name = c.find_one({\"name\":\"Babelgum\"}, {\"name\":1, \"_id\":0})\n",
    "# c.count_documents({\"name\":\"Babelgum\"})\n",
    "#name"
   ]
  },
  {
   "cell_type": "markdown",
   "metadata": {},
   "source": [
    "### 2. All the companies that have more than 5000 employees. Limit the search to 20 companies and sort them by **number of employees**."
   ]
  },
  {
   "cell_type": "code",
   "execution_count": 66,
   "metadata": {},
   "outputs": [],
   "source": [
    "filter_ = {\"number_of_employees\": {\"$gt\":5000}}\n",
    "employe =list(c.find(filter_).limit(20).sort(\"number_of_employees\", 1))\n",
    "# employe"
   ]
  },
  {
   "cell_type": "markdown",
   "metadata": {},
   "source": [
    "### 3. All the companies founded between 2000 and 2005, both years included. Retrieve only the `name` and `founded_year` fields."
   ]
  },
  {
   "cell_type": "code",
   "execution_count": 4,
   "metadata": {},
   "outputs": [],
   "source": [
    "filter_2 = {\"founded_year\": {\"$lte\":2005}}\n",
    "filter_3 = {\"founded_year\": {\"$gte\":2000}}\n",
    "projection = {\"name\":1, \"_id\":0, \"founded_year\":1,}\n",
    "# list(c.find({\"$and\": [filter_2, filter_3]}, projection))"
   ]
  },
  {
   "cell_type": "markdown",
   "metadata": {},
   "source": [
    "### 4. All the companies that had a Valuation Amount of more than 100.000.000 and have been founded before 2010. Retrieve only the `name` and `ipo` fields."
   ]
  },
  {
   "cell_type": "code",
   "execution_count": 5,
   "metadata": {},
   "outputs": [],
   "source": [
    "filter_2 = {\"founded_year\": {\"$lte\":2005}}\n",
    "filter_3 = {\"ipo.valuation_amount\": {\"$gt\":100000000}}\n",
    "projection = {\"name\":1, \"_id\":0, \"ipo\":1,}\n",
    "# list(c.find({\"$and\": [filter_2, filter_3]}, projection))"
   ]
  },
  {
   "cell_type": "markdown",
   "metadata": {},
   "source": [
    "### 5. All the companies that have less than 1000 employees and have been founded before 2005. Order them by the number of employees and limit the search to 10 companies."
   ]
  },
  {
   "cell_type": "code",
   "execution_count": 6,
   "metadata": {},
   "outputs": [],
   "source": [
    "filter_2 = {\"number_of_employees\": {\"$lte\":1000}}\n",
    "filter_3 = {\"founded_year\": {\"$lte\":2005}}\n",
    "projection = {\"name\":1, \"_id\":0, \"founded_year\":1,\"number_of_employees\":1}\n",
    "# list(c.find({\"$and\": [filter_2, filter_3]}, projection).sort(\"number_of_employees\", 1).limit(10))"
   ]
  },
  {
   "cell_type": "markdown",
   "metadata": {},
   "source": [
    "### 6. All the companies that don't include the `partners` field."
   ]
  },
  {
   "cell_type": "code",
   "execution_count": 7,
   "metadata": {},
   "outputs": [],
   "source": [
    "# list(c.find({\"partners\": \"$nin\"}))"
   ]
  },
  {
   "cell_type": "markdown",
   "metadata": {},
   "source": [
    "### 7. All the companies that have a null type of value on the `category_code` field."
   ]
  },
  {
   "cell_type": "code",
   "execution_count": 8,
   "metadata": {},
   "outputs": [],
   "source": [
    "# list(c.find({\"category_code\": {\"$type\":\"null\"}}))"
   ]
  },
  {
   "cell_type": "markdown",
   "metadata": {},
   "source": [
    "### 8. All the companies that have at least 100 employees but less than 1000. Retrieve only the `name` and `number of employees` fields."
   ]
  },
  {
   "cell_type": "code",
   "execution_count": 9,
   "metadata": {},
   "outputs": [],
   "source": [
    "filter_2 = {\"number_of_employees\": {\"$gt\":100}}\n",
    "filter_3 = {\"number_of_employees\": {\"$lt\":1000}}\n",
    "projection = {\"name\":1, \"_id\":0,\"number_of_employees\":1}\n",
    "# list(c.find({\"$and\": [filter_2, filter_3]}, projection))"
   ]
  },
  {
   "cell_type": "markdown",
   "metadata": {},
   "source": [
    "### 9. Order all the companies by their IPO price in a descending order."
   ]
  },
  {
   "cell_type": "code",
   "execution_count": 10,
   "metadata": {},
   "outputs": [],
   "source": [
    "projection = {\"name\":1, \"_id\":0, \"ipo\": 1}\n",
    "\n",
    "# list(c.find({}, projection).sort(\"ipo.valuation_amount\", -1))"
   ]
  },
  {
   "cell_type": "markdown",
   "metadata": {},
   "source": [
    "### 10. Retrieve the 10 companies with more employees, order by the `number of employees`"
   ]
  },
  {
   "cell_type": "code",
   "execution_count": 11,
   "metadata": {},
   "outputs": [],
   "source": [
    "projection = {\"name\":1, \"_id\":0, \"number_of_employees\": 1}\n",
    "\n",
    "# list(c.find({}, projection).sort(\"number_of_employees\", -1).limit(10))"
   ]
  },
  {
   "cell_type": "markdown",
   "metadata": {},
   "source": [
    "### 11. All the companies founded on the second semester of the year. Limit your search to 1000 companies."
   ]
  },
  {
   "cell_type": "code",
   "execution_count": 12,
   "metadata": {},
   "outputs": [],
   "source": [
    "filter_2 = {\"founded_month\": {\"$gt\":6}}\n",
    "filter_3 = {\"founded_month\": {\"$lte\":12}}\n",
    "projection = {\"name\":1, \"_id\":0,\"founded_month\":1}\n",
    "# list(c.find({\"$and\": [filter_2, filter_3]}, projection).limit(1000))"
   ]
  },
  {
   "cell_type": "markdown",
   "metadata": {},
   "source": [
    "### 12. All the companies founded before 2000 that have an acquisition amount of more than 10.000.00"
   ]
  },
  {
   "cell_type": "code",
   "execution_count": 24,
   "metadata": {},
   "outputs": [],
   "source": [
    "filter_2 = {\"founded_year\": {\"$lt\":2000}}\n",
    "filter_3 = {\"acquisition.price_amount\": {\"$gt\":1000000}}\n",
    "projection = {\"name\":1, \"_id\":0,\"founded_year\": 1,\"acquisition.price_amount\":1}\n",
    "# list(c.find({\"$and\": [filter_2, filter_3]}, projection))"
   ]
  },
  {
   "cell_type": "markdown",
   "metadata": {},
   "source": [
    "### 13. All the companies that have been acquired after 2010, order by the acquisition amount, and retrieve only their `name` and `acquisition` field."
   ]
  },
  {
   "cell_type": "code",
   "execution_count": 26,
   "metadata": {},
   "outputs": [],
   "source": [
    "filter_2 = {\"acquisition.acquired_year\": {\"$gt\":2000}}\n",
    "projection = {\"name\":1, \"_id\":0,\"acquisition\":1}\n",
    "# list(c.find({\"$and\": [filter_2, filter_3]}, projection))"
   ]
  },
  {
   "cell_type": "markdown",
   "metadata": {},
   "source": [
    "### 14. Order the companies by their `founded year`, retrieving only their `name` and `founded year`."
   ]
  },
  {
   "cell_type": "code",
   "execution_count": 29,
   "metadata": {},
   "outputs": [],
   "source": [
    "projection = {\"name\":1, \"_id\":0, \"founded_year\": 1}\n",
    "\n",
    "#list(c.find({}, projection).sort(\"founded_year\", -1))\n",
    "# I did sort -1 on this one; otherwise the founded_year would start by none"
   ]
  },
  {
   "cell_type": "markdown",
   "metadata": {},
   "source": [
    "### 15. All the companies that have been founded on the first seven days of the month, including the seventh. Sort them by their `acquisition price` in a descending order. Limit the search to 10 documents."
   ]
  },
  {
   "cell_type": "code",
   "execution_count": 34,
   "metadata": {},
   "outputs": [
    {
     "data": {
      "text/plain": [
       "[{'name': 'Netscape', 'acquisition': {'price_amount': 4200000000}},\n",
       " {'name': 'PayPal', 'acquisition': {'price_amount': 1500000000}},\n",
       " {'name': 'Zappos', 'acquisition': {'price_amount': 1200000000}},\n",
       " {'name': 'Alibaba', 'acquisition': {'price_amount': 1000000000}},\n",
       " {'name': 'Postini', 'acquisition': {'price_amount': 625000000}},\n",
       " {'name': 'Danger', 'acquisition': {'price_amount': 500000000}},\n",
       " {'name': 'Clearwell Systems', 'acquisition': {'price_amount': 410000000}},\n",
       " {'name': 'PrimeSense', 'acquisition': {'price_amount': 345000000}},\n",
       " {'name': 'Amobee', 'acquisition': {'price_amount': 321000000}},\n",
       " {'name': 'BlueLithium', 'acquisition': {'price_amount': 300000000}}]"
      ]
     },
     "execution_count": 34,
     "metadata": {},
     "output_type": "execute_result"
    }
   ],
   "source": [
    "filter_2 = {\"founded_day\": {\"$gte\":1}}\n",
    "filter_3 = {\"founded_day\": {\"$lte\":7}}\n",
    "projection = {\"name\":1, \"_id\":0,\"acquisition.price_amount\":1}\n",
    "list(c.find({\"$and\": [filter_2, filter_3]}, projection).sort(\"acquisition.price_amount\", -1).limit(10))"
   ]
  },
  {
   "cell_type": "markdown",
   "metadata": {},
   "source": [
    "### 16. All the companies on the 'web' `category` that have more than 4000 employees. Sort them by the amount of employees in ascending order."
   ]
  },
  {
   "cell_type": "code",
   "execution_count": 43,
   "metadata": {},
   "outputs": [],
   "source": [
    "filter_1 = {\"category_code\": \"web\"}\n",
    "filter_2 = {\"number_of_employees\": {\"$gt\":4000}}\n",
    "projection = {\"name\":1, \"_id\":0,\"category\":1}\n",
    "# list(c.find({\"$and\": [filter_1, filter_2]}, projection).sort(\"number_of_employees\", 1))"
   ]
  },
  {
   "cell_type": "markdown",
   "metadata": {},
   "source": [
    "### 17. All the companies whose acquisition amount is more than 10.000.000, and currency is 'EUR'."
   ]
  },
  {
   "cell_type": "code",
   "execution_count": 53,
   "metadata": {},
   "outputs": [],
   "source": [
    "condition = {\"$regex\": \"(€)\"}\n",
    "filter_1 = {\"total_money_raised\": condition}\n",
    "filter_2 = {\"acquisition.price_amount\": {\"$gt\":10000000}}\n",
    "projection = {\"name\":1, \"_id\":0,\"acquisition.price_amount\":1}\n",
    "# list(c.find({\"$and\": [filter_1, filter_2]}, projection))\n",
    "\n",
    "# filter_1 = {\"acquisition.price_currency_code\": \"EUR\"}\n",
    "# filter_2 = {\"acquisition.price_amount\": {\"$gt\":10000000}}\n",
    "# projection = {\"name\":1, \"_id\":0,\"acquisition.price_amount\":1}\n",
    "# list(c.find({\"$and\": [filter_1, filter_2]}, projection))"
   ]
  },
  {
   "cell_type": "markdown",
   "metadata": {},
   "source": [
    "### 18. All the companies that have been acquired on the first trimester of the year. Limit the search to 10 companies, and retrieve only their `name` and `acquisition` fields."
   ]
  },
  {
   "cell_type": "code",
   "execution_count": 68,
   "metadata": {},
   "outputs": [],
   "source": [
    "filter_2 = {\"acquisition.acquired_month\": {\"$gte\":1}}\n",
    "filter_3 = {\"acquisition.acquired_month\": {\"$lte\":3}}\n",
    "projection = {\"name\":1, \"_id\":0,\"acquisition\":1}\n",
    "# list(c.find({\"$and\": [filter_2, filter_3]}, projection).limit(10))\n",
    "\n",
    "\n"
   ]
  },
  {
   "cell_type": "markdown",
   "metadata": {},
   "source": [
    "# Bonus\n",
    "### 19. All the companies that have been founded between 2000 and 2010, but have not been acquired before 2011."
   ]
  },
  {
   "cell_type": "code",
   "execution_count": 85,
   "metadata": {},
   "outputs": [],
   "source": [
    "filter_1 = {\"founded_year\": {\"$gt\":2000}}\n",
    "filter_2 = {\"founded_year\": {\"$lt\":2010}}\n",
    "filter_3 = {\"acquisition.acquired_year\": {\"$gte\":2011}}\n",
    "projection = {\"name\":1, \"_id\":0, \"founded_year\": 1, \"acquisition.acquired_year\": 1}\n",
    "# list(c.find({\"$and\": [filter_1, filter_2, filter_3]}, projection))\n"
   ]
  },
  {
   "cell_type": "markdown",
   "metadata": {},
   "source": [
    "### 20. All the companies that have been 'deadpooled' after the third year."
   ]
  },
  {
   "cell_type": "code",
   "execution_count": 178,
   "metadata": {},
   "outputs": [
    {
     "data": {
      "text/html": [
       "<div>\n",
       "<style scoped>\n",
       "    .dataframe tbody tr th:only-of-type {\n",
       "        vertical-align: middle;\n",
       "    }\n",
       "\n",
       "    .dataframe tbody tr th {\n",
       "        vertical-align: top;\n",
       "    }\n",
       "\n",
       "    .dataframe thead th {\n",
       "        text-align: right;\n",
       "    }\n",
       "</style>\n",
       "<table border=\"1\" class=\"dataframe\">\n",
       "  <thead>\n",
       "    <tr style=\"text-align: right;\">\n",
       "      <th></th>\n",
       "      <th>name</th>\n",
       "      <th>founded_year</th>\n",
       "      <th>deadpooled_year</th>\n",
       "    </tr>\n",
       "  </thead>\n",
       "  <tbody>\n",
       "    <tr>\n",
       "      <th>0</th>\n",
       "      <td>Babelgum</td>\n",
       "      <td>2007</td>\n",
       "      <td>2013</td>\n",
       "    </tr>\n",
       "    <tr>\n",
       "      <th>1</th>\n",
       "      <td>Thoof</td>\n",
       "      <td>2006</td>\n",
       "      <td>2013</td>\n",
       "    </tr>\n",
       "    <tr>\n",
       "      <th>2</th>\n",
       "      <td>Wesabe</td>\n",
       "      <td>2005</td>\n",
       "      <td>2010</td>\n",
       "    </tr>\n",
       "    <tr>\n",
       "      <th>3</th>\n",
       "      <td>Stickam</td>\n",
       "      <td>2006</td>\n",
       "      <td>2013</td>\n",
       "    </tr>\n",
       "    <tr>\n",
       "      <th>4</th>\n",
       "      <td>AllPeers</td>\n",
       "      <td>2004</td>\n",
       "      <td>2008</td>\n",
       "    </tr>\n",
       "    <tr>\n",
       "      <th>...</th>\n",
       "      <td>...</td>\n",
       "      <td>...</td>\n",
       "      <td>...</td>\n",
       "    </tr>\n",
       "    <tr>\n",
       "      <th>432</th>\n",
       "      <td>SpeakSoft</td>\n",
       "      <td>2007</td>\n",
       "      <td>2012</td>\n",
       "    </tr>\n",
       "    <tr>\n",
       "      <th>433</th>\n",
       "      <td>Tagito</td>\n",
       "      <td>2008</td>\n",
       "      <td>2012</td>\n",
       "    </tr>\n",
       "    <tr>\n",
       "      <th>434</th>\n",
       "      <td>Nordic Windpower</td>\n",
       "      <td>2007</td>\n",
       "      <td>2013</td>\n",
       "    </tr>\n",
       "    <tr>\n",
       "      <th>435</th>\n",
       "      <td>Nethra Imaging</td>\n",
       "      <td>2003</td>\n",
       "      <td>2012</td>\n",
       "    </tr>\n",
       "    <tr>\n",
       "      <th>436</th>\n",
       "      <td>Prolify</td>\n",
       "      <td>2002</td>\n",
       "      <td>2007</td>\n",
       "    </tr>\n",
       "  </tbody>\n",
       "</table>\n",
       "<p>437 rows × 3 columns</p>\n",
       "</div>"
      ],
      "text/plain": [
       "                 name  founded_year  deadpooled_year\n",
       "0            Babelgum          2007             2013\n",
       "1               Thoof          2006             2013\n",
       "2              Wesabe          2005             2010\n",
       "3             Stickam          2006             2013\n",
       "4            AllPeers          2004             2008\n",
       "..                ...           ...              ...\n",
       "432         SpeakSoft          2007             2012\n",
       "433            Tagito          2008             2012\n",
       "434  Nordic Windpower          2007             2013\n",
       "435    Nethra Imaging          2003             2012\n",
       "436           Prolify          2002             2007\n",
       "\n",
       "[437 rows x 3 columns]"
      ]
     },
     "execution_count": 178,
     "metadata": {},
     "output_type": "execute_result"
    }
   ],
   "source": [
    "filter1 = {\"founded_year\": {\"$type\":\"int\"}}\n",
    "filter3 = {\"$where\": \"this.deadpooled_year - this.founded_year > 3\"}\n",
    "filter4 = {\"deadpooled_year\": {\"$gte\":3}}\n",
    "\n",
    "projection = {\"name\":1, \"_id\":0, \"founded_year\": 1, \"deadpooled_year\": 1}\n",
    "\n",
    "# a = c.find({\"$and\": [filter1, filter3, filter4]}, projection)\n",
    "\n",
    "# df=pd.DataFrame(a)\n",
    "\n",
    "# df\n"
   ]
  }
 ],
 "metadata": {
  "kernelspec": {
   "display_name": "Python 3 (ipykernel)",
   "language": "python",
   "name": "python3"
  },
  "language_info": {
   "codemirror_mode": {
    "name": "ipython",
    "version": 3
   },
   "file_extension": ".py",
   "mimetype": "text/x-python",
   "name": "python",
   "nbconvert_exporter": "python",
   "pygments_lexer": "ipython3",
   "version": "3.9.13"
  }
 },
 "nbformat": 4,
 "nbformat_minor": 2
}
